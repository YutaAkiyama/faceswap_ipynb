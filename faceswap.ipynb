{
 "cells": [
  {
   "cell_type": "markdown",
   "metadata": {
    "id": "D3L8Lkyj-5gl"
   },
   "source": [
    "#FaceSwap初期設定"
   ]
  },
  {
   "cell_type": "code",
   "execution_count": 6,
   "metadata": {
    "colab": {
     "base_uri": "https://localhost:8080/"
    },
    "id": "0aHr4Fo-7IRy",
    "outputId": "738f6511-33d3-44c6-e5ac-378e515c4020",
    "tags": []
   },
   "outputs": [
    {
     "name": "stdout",
     "output_type": "stream",
     "text": [
      "shell-init: error retrieving current directory: getcwd: cannot access parent directories: No such file or directory\n",
      "Hit:1 https://developer.download.nvidia.com/compute/cuda/repos/ubuntu2004/x86_64  InRelease\n",
      "Hit:2 https://deb.nodesource.com/node_16.x focal InRelease                     \n",
      "Hit:3 http://archive.ubuntu.com/ubuntu focal InRelease                         \n",
      "Hit:4 http://archive.ubuntu.com/ubuntu focal-updates InRelease                 \n",
      "Hit:5 http://archive.ubuntu.com/ubuntu focal-backports InRelease\n",
      "Hit:6 http://security.ubuntu.com/ubuntu focal-security InRelease\n",
      "Hit:7 http://ppa.launchpad.net/deadsnakes/ppa/ubuntu focal InRelease\n",
      "Reading package lists... Done\n",
      "shell-init: error retrieving current directory: getcwd: cannot access parent directories: No such file or directory\n",
      "Reading package lists... Done\n",
      "Building dependency tree       \n",
      "Reading state information... Done\n",
      "python3-tk is already the newest version (3.8.10-0ubuntu1~20.04).\n",
      "0 upgraded, 0 newly installed, 0 to remove and 169 not upgraded.\n",
      "/notebooks\n",
      "Cloning into 'faceswap'...\n",
      "remote: Enumerating objects: 1493, done.\u001b[K\n",
      "remote: Counting objects: 100% (22/22), done.\u001b[K\n",
      "remote: Compressing objects: 100% (16/16), done.\u001b[K\n",
      "remote: Total 1493 (delta 8), reused 15 (delta 5), pack-reused 1471\u001b[K\n",
      "Receiving objects: 100% (1493/1493), 90.82 MiB | 53.51 MiB/s, done.\n",
      "Resolving deltas: 100% (926/926), done.\n",
      "/notebooks/faceswap\n",
      "Looking in indexes: https://pypi.org/simple, https://download.pytorch.org/whl/cu118\n",
      "Ignoring torch: markers 'sys_platform == \"darwin\"' don't match your environment\n",
      "Ignoring torchvision: markers 'sys_platform == \"darwin\"' don't match your environment\n",
      "Ignoring onnxruntime: markers 'sys_platform == \"darwin\" and platform_machine != \"arm64\"' don't match your environment\n",
      "Ignoring onnxruntime-silicon: markers 'sys_platform == \"darwin\" and platform_machine == \"arm64\"' don't match your environment\n",
      "Ignoring tensorflow: markers 'sys_platform == \"darwin\"' don't match your environment\n",
      "Requirement already satisfied: numpy==1.23.5 in /usr/local/lib/python3.9/dist-packages (from -r requirements.txt (line 3)) (1.23.5)\n",
      "Requirement already satisfied: opencv-python==4.7.0.72 in /usr/local/lib/python3.9/dist-packages (from -r requirements.txt (line 4)) (4.7.0.72)\n",
      "Requirement already satisfied: onnx==1.14.0 in /usr/local/lib/python3.9/dist-packages (from -r requirements.txt (line 5)) (1.14.0)\n",
      "Requirement already satisfied: insightface==0.7.3 in /usr/local/lib/python3.9/dist-packages (from -r requirements.txt (line 6)) (0.7.3)\n",
      "Requirement already satisfied: psutil==5.9.5 in /usr/local/lib/python3.9/dist-packages (from -r requirements.txt (line 7)) (5.9.5)\n",
      "Requirement already satisfied: tk==0.1.0 in /usr/local/lib/python3.9/dist-packages (from -r requirements.txt (line 8)) (0.1.0)\n",
      "Requirement already satisfied: customtkinter==5.1.3 in /usr/local/lib/python3.9/dist-packages (from -r requirements.txt (line 9)) (5.1.3)\n",
      "Requirement already satisfied: pillow==9.5.0 in /usr/local/lib/python3.9/dist-packages (from -r requirements.txt (line 10)) (9.5.0)\n",
      "Requirement already satisfied: torch==2.0.1+cu118 in /usr/local/lib/python3.9/dist-packages (from -r requirements.txt (line 11)) (2.0.1+cu118)\n",
      "Requirement already satisfied: torchvision==0.15.2+cu118 in /usr/local/lib/python3.9/dist-packages (from -r requirements.txt (line 13)) (0.15.2+cu118)\n",
      "Requirement already satisfied: onnxruntime-gpu==1.15.0 in /usr/local/lib/python3.9/dist-packages (from -r requirements.txt (line 17)) (1.15.0)\n",
      "Requirement already satisfied: tensorflow==2.12.0 in /usr/local/lib/python3.9/dist-packages (from -r requirements.txt (line 19)) (2.12.0)\n",
      "Requirement already satisfied: opennsfw2==0.10.2 in /usr/local/lib/python3.9/dist-packages (from -r requirements.txt (line 20)) (0.10.2)\n",
      "Requirement already satisfied: protobuf==4.23.2 in /usr/local/lib/python3.9/dist-packages (from -r requirements.txt (line 21)) (4.23.2)\n",
      "Requirement already satisfied: tqdm==4.65.0 in /usr/local/lib/python3.9/dist-packages (from -r requirements.txt (line 22)) (4.65.0)\n",
      "Requirement already satisfied: gfpgan==1.3.8 in /usr/local/lib/python3.9/dist-packages (from -r requirements.txt (line 23)) (1.3.8)\n",
      "Requirement already satisfied: typing-extensions>=3.6.2.1 in /usr/local/lib/python3.9/dist-packages (from onnx==1.14.0->-r requirements.txt (line 5)) (4.4.0)\n",
      "Requirement already satisfied: scikit-image in /usr/local/lib/python3.9/dist-packages (from insightface==0.7.3->-r requirements.txt (line 6)) (0.19.3)\n",
      "Requirement already satisfied: cython in /usr/local/lib/python3.9/dist-packages (from insightface==0.7.3->-r requirements.txt (line 6)) (0.29.32)\n",
      "Requirement already satisfied: requests in /usr/local/lib/python3.9/dist-packages (from insightface==0.7.3->-r requirements.txt (line 6)) (2.28.2)\n",
      "Requirement already satisfied: matplotlib in /usr/local/lib/python3.9/dist-packages (from insightface==0.7.3->-r requirements.txt (line 6)) (3.6.1)\n",
      "Requirement already satisfied: scikit-learn in /usr/local/lib/python3.9/dist-packages (from insightface==0.7.3->-r requirements.txt (line 6)) (1.1.2)\n",
      "Requirement already satisfied: prettytable in /usr/local/lib/python3.9/dist-packages (from insightface==0.7.3->-r requirements.txt (line 6)) (3.9.0)\n",
      "Requirement already satisfied: albumentations in /usr/local/lib/python3.9/dist-packages (from insightface==0.7.3->-r requirements.txt (line 6)) (1.3.1)\n",
      "Requirement already satisfied: easydict in /usr/local/lib/python3.9/dist-packages (from insightface==0.7.3->-r requirements.txt (line 6)) (1.11)\n",
      "Requirement already satisfied: scipy in /usr/local/lib/python3.9/dist-packages (from insightface==0.7.3->-r requirements.txt (line 6)) (1.9.2)\n",
      "Requirement already satisfied: darkdetect in /usr/local/lib/python3.9/dist-packages (from customtkinter==5.1.3->-r requirements.txt (line 9)) (0.8.0)\n",
      "Requirement already satisfied: filelock in /usr/local/lib/python3.9/dist-packages (from torch==2.0.1+cu118->-r requirements.txt (line 11)) (3.9.0)\n",
      "Requirement already satisfied: sympy in /usr/local/lib/python3.9/dist-packages (from torch==2.0.1+cu118->-r requirements.txt (line 11)) (1.12)\n",
      "Requirement already satisfied: triton==2.0.0 in /usr/local/lib/python3.9/dist-packages (from torch==2.0.1+cu118->-r requirements.txt (line 11)) (2.0.0)\n",
      "Requirement already satisfied: networkx in /usr/local/lib/python3.9/dist-packages (from torch==2.0.1+cu118->-r requirements.txt (line 11)) (3.0)\n",
      "Requirement already satisfied: jinja2 in /usr/local/lib/python3.9/dist-packages (from torch==2.0.1+cu118->-r requirements.txt (line 11)) (3.1.2)\n",
      "Requirement already satisfied: coloredlogs in /usr/local/lib/python3.9/dist-packages (from onnxruntime-gpu==1.15.0->-r requirements.txt (line 17)) (15.0.1)\n",
      "Requirement already satisfied: packaging in /usr/local/lib/python3.9/dist-packages (from onnxruntime-gpu==1.15.0->-r requirements.txt (line 17)) (23.0)\n",
      "Requirement already satisfied: flatbuffers in /usr/local/lib/python3.9/dist-packages (from onnxruntime-gpu==1.15.0->-r requirements.txt (line 17)) (23.5.26)\n",
      "Requirement already satisfied: opt-einsum>=2.3.2 in /usr/local/lib/python3.9/dist-packages (from tensorflow==2.12.0->-r requirements.txt (line 19)) (3.3.0)\n",
      "Requirement already satisfied: termcolor>=1.1.0 in /usr/local/lib/python3.9/dist-packages (from tensorflow==2.12.0->-r requirements.txt (line 19)) (2.2.0)\n",
      "Requirement already satisfied: jax>=0.3.15 in /usr/local/lib/python3.9/dist-packages (from tensorflow==2.12.0->-r requirements.txt (line 19)) (0.4.1)\n",
      "Requirement already satisfied: h5py>=2.9.0 in /usr/local/lib/python3.9/dist-packages (from tensorflow==2.12.0->-r requirements.txt (line 19)) (3.8.0)\n",
      "Requirement already satisfied: six>=1.12.0 in /usr/lib/python3/dist-packages (from tensorflow==2.12.0->-r requirements.txt (line 19)) (1.14.0)\n",
      "Requirement already satisfied: tensorflow-estimator<2.13,>=2.12.0 in /usr/local/lib/python3.9/dist-packages (from tensorflow==2.12.0->-r requirements.txt (line 19)) (2.12.0)\n",
      "Requirement already satisfied: astunparse>=1.6.0 in /usr/local/lib/python3.9/dist-packages (from tensorflow==2.12.0->-r requirements.txt (line 19)) (1.6.3)\n",
      "Requirement already satisfied: tensorboard<2.13,>=2.12 in /usr/local/lib/python3.9/dist-packages (from tensorflow==2.12.0->-r requirements.txt (line 19)) (2.12.3)\n",
      "Requirement already satisfied: libclang>=13.0.0 in /usr/local/lib/python3.9/dist-packages (from tensorflow==2.12.0->-r requirements.txt (line 19)) (15.0.6.1)\n",
      "Requirement already satisfied: wrapt<1.15,>=1.11.0 in /usr/local/lib/python3.9/dist-packages (from tensorflow==2.12.0->-r requirements.txt (line 19)) (1.14.1)\n",
      "Requirement already satisfied: absl-py>=1.0.0 in /usr/local/lib/python3.9/dist-packages (from tensorflow==2.12.0->-r requirements.txt (line 19)) (1.4.0)\n",
      "Requirement already satisfied: setuptools in /usr/local/lib/python3.9/dist-packages (from tensorflow==2.12.0->-r requirements.txt (line 19)) (66.1.1)\n",
      "Requirement already satisfied: google-pasta>=0.1.1 in /usr/local/lib/python3.9/dist-packages (from tensorflow==2.12.0->-r requirements.txt (line 19)) (0.2.0)\n",
      "Requirement already satisfied: tensorflow-io-gcs-filesystem>=0.23.1 in /usr/local/lib/python3.9/dist-packages (from tensorflow==2.12.0->-r requirements.txt (line 19)) (0.30.0)\n",
      "Requirement already satisfied: gast<=0.4.0,>=0.2.1 in /usr/local/lib/python3.9/dist-packages (from tensorflow==2.12.0->-r requirements.txt (line 19)) (0.4.0)\n",
      "Requirement already satisfied: grpcio<2.0,>=1.24.3 in /usr/local/lib/python3.9/dist-packages (from tensorflow==2.12.0->-r requirements.txt (line 19)) (1.51.1)\n",
      "Requirement already satisfied: keras<2.13,>=2.12.0 in /usr/local/lib/python3.9/dist-packages (from tensorflow==2.12.0->-r requirements.txt (line 19)) (2.12.0)\n",
      "Requirement already satisfied: gdown>=4.2.0 in /usr/local/lib/python3.9/dist-packages (from opennsfw2==0.10.2->-r requirements.txt (line 20)) (4.5.1)\n",
      "Requirement already satisfied: yapf in /usr/local/lib/python3.9/dist-packages (from gfpgan==1.3.8->-r requirements.txt (line 23)) (0.40.2)\n",
      "Requirement already satisfied: tb-nightly in /usr/local/lib/python3.9/dist-packages (from gfpgan==1.3.8->-r requirements.txt (line 23)) (2.16.0a20240111)\n",
      "Requirement already satisfied: lmdb in /usr/local/lib/python3.9/dist-packages (from gfpgan==1.3.8->-r requirements.txt (line 23)) (1.4.1)\n",
      "Requirement already satisfied: facexlib>=0.2.5 in /usr/local/lib/python3.9/dist-packages (from gfpgan==1.3.8->-r requirements.txt (line 23)) (0.3.0)\n",
      "Requirement already satisfied: basicsr>=1.4.2 in /usr/local/lib/python3.9/dist-packages (from gfpgan==1.3.8->-r requirements.txt (line 23)) (1.4.2)\n",
      "Requirement already satisfied: pyyaml in /usr/local/lib/python3.9/dist-packages (from gfpgan==1.3.8->-r requirements.txt (line 23)) (5.4.1)\n",
      "Requirement already satisfied: lit in /usr/local/lib/python3.9/dist-packages (from triton==2.0.0->torch==2.0.1+cu118->-r requirements.txt (line 11)) (17.0.6)\n",
      "Requirement already satisfied: cmake in /usr/local/lib/python3.9/dist-packages (from triton==2.0.0->torch==2.0.1+cu118->-r requirements.txt (line 11)) (3.28.1)\n",
      "Requirement already satisfied: wheel<1.0,>=0.23.0 in /usr/local/lib/python3.9/dist-packages (from astunparse>=1.6.0->tensorflow==2.12.0->-r requirements.txt (line 19)) (0.35.1)\n",
      "Requirement already satisfied: addict in /usr/local/lib/python3.9/dist-packages (from basicsr>=1.4.2->gfpgan==1.3.8->-r requirements.txt (line 23)) (2.4.0)\n",
      "Requirement already satisfied: future in /usr/lib/python3/dist-packages (from basicsr>=1.4.2->gfpgan==1.3.8->-r requirements.txt (line 23)) (0.18.2)\n",
      "Requirement already satisfied: numba in /usr/local/lib/python3.9/dist-packages (from facexlib>=0.2.5->gfpgan==1.3.8->-r requirements.txt (line 23)) (0.58.1)\n",
      "Requirement already satisfied: filterpy in /usr/local/lib/python3.9/dist-packages (from facexlib>=0.2.5->gfpgan==1.3.8->-r requirements.txt (line 23)) (1.4.5)\n",
      "Requirement already satisfied: beautifulsoup4 in /usr/local/lib/python3.9/dist-packages (from gdown>=4.2.0->opennsfw2==0.10.2->-r requirements.txt (line 20)) (4.11.1)\n",
      "Requirement already satisfied: cycler>=0.10 in /usr/local/lib/python3.9/dist-packages (from matplotlib->insightface==0.7.3->-r requirements.txt (line 6)) (0.11.0)\n",
      "Requirement already satisfied: contourpy>=1.0.1 in /usr/local/lib/python3.9/dist-packages (from matplotlib->insightface==0.7.3->-r requirements.txt (line 6)) (1.0.7)\n",
      "Requirement already satisfied: pyparsing>=2.2.1 in /usr/local/lib/python3.9/dist-packages (from matplotlib->insightface==0.7.3->-r requirements.txt (line 6)) (3.0.9)\n",
      "Requirement already satisfied: fonttools>=4.22.0 in /usr/local/lib/python3.9/dist-packages (from matplotlib->insightface==0.7.3->-r requirements.txt (line 6)) (4.38.0)\n",
      "Requirement already satisfied: python-dateutil>=2.7 in /usr/local/lib/python3.9/dist-packages (from matplotlib->insightface==0.7.3->-r requirements.txt (line 6)) (2.8.2)\n",
      "Requirement already satisfied: kiwisolver>=1.0.1 in /usr/local/lib/python3.9/dist-packages (from matplotlib->insightface==0.7.3->-r requirements.txt (line 6)) (1.4.4)\n",
      "Requirement already satisfied: imageio>=2.4.1 in /usr/local/lib/python3.9/dist-packages (from scikit-image->insightface==0.7.3->-r requirements.txt (line 6)) (2.25.0)\n",
      "Requirement already satisfied: PyWavelets>=1.1.1 in /usr/local/lib/python3.9/dist-packages (from scikit-image->insightface==0.7.3->-r requirements.txt (line 6)) (1.4.1)\n",
      "Requirement already satisfied: tifffile>=2019.7.26 in /usr/local/lib/python3.9/dist-packages (from scikit-image->insightface==0.7.3->-r requirements.txt (line 6)) (2023.1.23.1)\n",
      "Requirement already satisfied: tensorboard-data-server<0.8.0,>=0.7.0 in /usr/local/lib/python3.9/dist-packages (from tensorboard<2.13,>=2.12->tensorflow==2.12.0->-r requirements.txt (line 19)) (0.7.2)\n",
      "Requirement already satisfied: werkzeug>=1.0.1 in /usr/local/lib/python3.9/dist-packages (from tensorboard<2.13,>=2.12->tensorflow==2.12.0->-r requirements.txt (line 19)) (2.2.2)\n",
      "Requirement already satisfied: google-auth-oauthlib<1.1,>=0.5 in /usr/local/lib/python3.9/dist-packages (from tensorboard<2.13,>=2.12->tensorflow==2.12.0->-r requirements.txt (line 19)) (1.0.0)\n",
      "Requirement already satisfied: markdown>=2.6.8 in /usr/local/lib/python3.9/dist-packages (from tensorboard<2.13,>=2.12->tensorflow==2.12.0->-r requirements.txt (line 19)) (3.4.1)\n",
      "Requirement already satisfied: google-auth<3,>=1.6.3 in /usr/local/lib/python3.9/dist-packages (from tensorboard<2.13,>=2.12->tensorflow==2.12.0->-r requirements.txt (line 19)) (2.16.0)\n",
      "Requirement already satisfied: certifi>=2017.4.17 in /usr/lib/python3/dist-packages (from requests->insightface==0.7.3->-r requirements.txt (line 6)) (2019.11.28)\n",
      "Requirement already satisfied: charset-normalizer<4,>=2 in /usr/local/lib/python3.9/dist-packages (from requests->insightface==0.7.3->-r requirements.txt (line 6)) (2.1.1)\n",
      "Requirement already satisfied: idna<4,>=2.5 in /usr/lib/python3/dist-packages (from requests->insightface==0.7.3->-r requirements.txt (line 6)) (2.8)\n",
      "Requirement already satisfied: urllib3<1.27,>=1.21.1 in /usr/local/lib/python3.9/dist-packages (from requests->insightface==0.7.3->-r requirements.txt (line 6)) (1.26.14)\n",
      "Requirement already satisfied: qudida>=0.0.4 in /usr/local/lib/python3.9/dist-packages (from albumentations->insightface==0.7.3->-r requirements.txt (line 6)) (0.0.4)\n",
      "Requirement already satisfied: opencv-python-headless>=4.1.1 in /usr/local/lib/python3.9/dist-packages (from albumentations->insightface==0.7.3->-r requirements.txt (line 6)) (4.9.0.80)\n",
      "Requirement already satisfied: humanfriendly>=9.1 in /usr/local/lib/python3.9/dist-packages (from coloredlogs->onnxruntime-gpu==1.15.0->-r requirements.txt (line 17)) (10.0)\n",
      "Requirement already satisfied: MarkupSafe>=2.0 in /usr/local/lib/python3.9/dist-packages (from jinja2->torch==2.0.1+cu118->-r requirements.txt (line 11)) (2.1.2)\n",
      "Requirement already satisfied: wcwidth in /usr/local/lib/python3.9/dist-packages (from prettytable->insightface==0.7.3->-r requirements.txt (line 6)) (0.2.6)\n",
      "Requirement already satisfied: joblib>=1.0.0 in /usr/local/lib/python3.9/dist-packages (from scikit-learn->insightface==0.7.3->-r requirements.txt (line 6)) (1.2.0)\n",
      "Requirement already satisfied: threadpoolctl>=2.0.0 in /usr/local/lib/python3.9/dist-packages (from scikit-learn->insightface==0.7.3->-r requirements.txt (line 6)) (3.1.0)\n",
      "Requirement already satisfied: mpmath>=0.19 in /usr/local/lib/python3.9/dist-packages (from sympy->torch==2.0.1+cu118->-r requirements.txt (line 11)) (1.3.0)\n",
      "Requirement already satisfied: tf-keras-nightly in /usr/local/lib/python3.9/dist-packages (from tb-nightly->gfpgan==1.3.8->-r requirements.txt (line 23)) (2.16.0.dev2024011110)\n",
      "Requirement already satisfied: importlib-metadata>=6.6.0 in /usr/local/lib/python3.9/dist-packages (from yapf->gfpgan==1.3.8->-r requirements.txt (line 23)) (7.0.1)\n",
      "Requirement already satisfied: tomli>=2.0.1 in /usr/local/lib/python3.9/dist-packages (from yapf->gfpgan==1.3.8->-r requirements.txt (line 23)) (2.0.1)\n",
      "Requirement already satisfied: platformdirs>=3.5.1 in /usr/local/lib/python3.9/dist-packages (from yapf->gfpgan==1.3.8->-r requirements.txt (line 23)) (4.1.0)\n",
      "Requirement already satisfied: pyasn1-modules>=0.2.1 in /usr/local/lib/python3.9/dist-packages (from google-auth<3,>=1.6.3->tensorboard<2.13,>=2.12->tensorflow==2.12.0->-r requirements.txt (line 19)) (0.2.8)\n",
      "Requirement already satisfied: cachetools<6.0,>=2.0.0 in /usr/local/lib/python3.9/dist-packages (from google-auth<3,>=1.6.3->tensorboard<2.13,>=2.12->tensorflow==2.12.0->-r requirements.txt (line 19)) (5.3.0)\n",
      "Requirement already satisfied: rsa<5,>=3.1.4 in /usr/local/lib/python3.9/dist-packages (from google-auth<3,>=1.6.3->tensorboard<2.13,>=2.12->tensorflow==2.12.0->-r requirements.txt (line 19)) (4.7.2)\n",
      "Requirement already satisfied: requests-oauthlib>=0.7.0 in /usr/local/lib/python3.9/dist-packages (from google-auth-oauthlib<1.1,>=0.5->tensorboard<2.13,>=2.12->tensorflow==2.12.0->-r requirements.txt (line 19)) (1.3.1)\n",
      "Requirement already satisfied: zipp>=0.5 in /usr/local/lib/python3.9/dist-packages (from importlib-metadata>=6.6.0->yapf->gfpgan==1.3.8->-r requirements.txt (line 23)) (3.11.0)\n",
      "Requirement already satisfied: soupsieve>1.2 in /usr/local/lib/python3.9/dist-packages (from beautifulsoup4->gdown>=4.2.0->opennsfw2==0.10.2->-r requirements.txt (line 20)) (2.3.2.post1)\n",
      "Requirement already satisfied: llvmlite<0.42,>=0.41.0dev0 in /usr/local/lib/python3.9/dist-packages (from numba->facexlib>=0.2.5->gfpgan==1.3.8->-r requirements.txt (line 23)) (0.41.1)\n",
      "Requirement already satisfied: PySocks!=1.5.7,>=1.5.6 in /usr/local/lib/python3.9/dist-packages (from requests->insightface==0.7.3->-r requirements.txt (line 6)) (1.7.1)\n",
      "Requirement already satisfied: pyasn1<0.5.0,>=0.4.6 in /usr/local/lib/python3.9/dist-packages (from pyasn1-modules>=0.2.1->google-auth<3,>=1.6.3->tensorboard<2.13,>=2.12->tensorflow==2.12.0->-r requirements.txt (line 19)) (0.4.8)\n",
      "Requirement already satisfied: oauthlib>=3.0.0 in /usr/local/lib/python3.9/dist-packages (from requests-oauthlib>=0.7.0->google-auth-oauthlib<1.1,>=0.5->tensorboard<2.13,>=2.12->tensorflow==2.12.0->-r requirements.txt (line 19)) (3.2.2)\n",
      "\u001b[33mWARNING: Running pip as the 'root' user can result in broken permissions and conflicting behaviour with the system package manager. It is recommended to use a virtual environment instead: https://pip.pypa.io/warnings/venv\u001b[0m\u001b[33m\n",
      "\u001b[0m"
     ]
    }
   ],
   "source": [
    "!apt-get -y update\n",
    "!apt-get -y install python3-tk\n",
    "%cd /notebooks\n",
    "!git clone https://github.com/YutaAkiyama/faceswap.git\n",
    "%cd faceswap\n",
    "!pip install -r requirements.txt"
   ]
  },
  {
   "cell_type": "markdown",
   "metadata": {
    "id": "jl9zIFZYGWTQ"
   },
   "source": [
    "#モデルのダウンロード"
   ]
  },
  {
   "cell_type": "code",
   "execution_count": 7,
   "metadata": {
    "colab": {
     "base_uri": "https://localhost:8080/"
    },
    "id": "2fVIip1QoRY8",
    "outputId": "4839d705-437a-44f1-8d9f-26cdb732bcb9",
    "tags": []
   },
   "outputs": [
    {
     "name": "stdout",
     "output_type": "stream",
     "text": [
      "--2024-01-11 15:45:30--  https://huggingface.co/yutaakiyama/inswapper_128.onnx/resolve/main/detection_Resnet50_Final.pth\n",
      "Resolving huggingface.co (huggingface.co)... 18.238.49.117, 18.238.49.10, 18.238.49.70, ...\n",
      "Connecting to huggingface.co (huggingface.co)|18.238.49.117|:443... connected.\n",
      "HTTP request sent, awaiting response... 302 Found\n",
      "Location: https://cdn-lfs-us-1.huggingface.co/repos/75/f4/75f48ae56a41f428fddfe65487b97dbe1ad8436c8c4132ce4b5548751f2a07da/6d1de9c2944f2ccddca5f5e010ea5ae64a39845a86311af6fdf30841b0a5a16d?response-content-disposition=attachment%3B+filename*%3DUTF-8%27%27detection_Resnet50_Final.pth%3B+filename%3D%22detection_Resnet50_Final.pth%22%3B&Expires=1705247130&Policy=eyJTdGF0ZW1lbnQiOlt7IkNvbmRpdGlvbiI6eyJEYXRlTGVzc1RoYW4iOnsiQVdTOkVwb2NoVGltZSI6MTcwNTI0NzEzMH19LCJSZXNvdXJjZSI6Imh0dHBzOi8vY2RuLWxmcy11cy0xLmh1Z2dpbmdmYWNlLmNvL3JlcG9zLzc1L2Y0Lzc1ZjQ4YWU1NmE0MWY0MjhmZGRmZTY1NDg3Yjk3ZGJlMWFkODQzNmM4YzQxMzJjZTRiNTU0ODc1MWYyYTA3ZGEvNmQxZGU5YzI5NDRmMmNjZGRjYTVmNWUwMTBlYTVhZTY0YTM5ODQ1YTg2MzExYWY2ZmRmMzA4NDFiMGE1YTE2ZD9yZXNwb25zZS1jb250ZW50LWRpc3Bvc2l0aW9uPSoifV19&Signature=di3nrb1e4cako4AVetLWmNn8wWyPR%7EKanlXlX%7EmcS9DEnjBpW%7Es0n6ByiW3vpt5DAqNhKQFhV6ziwt80s%7EcMF302XjVCuxEx6SrYAoR4PKA%7EZ59d9FrcHodq7%7EpZ3Qf9TUb0Kt11lNNDXkjPw2TPngzrQbnaTH3qnYwt0HzREjB6f0MO7O-Nk51HkBTR7BDQ-q3hC7SrpTwOLDLPwEpdkgYTVZqCN0MwLxeIA4GIFQiLV61W-zahYwpfoC3Ty36t5Z%7EexnKlcFKKySjKIhNnUyVfcdJ7ZOGoVg7xAZopZGvuytK1sNWwU-yJgtNiXjM4CgrL5q9ww-clMXHlkGwTfg__&Key-Pair-Id=KCD77M1F0VK2B [following]\n",
      "--2024-01-11 15:45:30--  https://cdn-lfs-us-1.huggingface.co/repos/75/f4/75f48ae56a41f428fddfe65487b97dbe1ad8436c8c4132ce4b5548751f2a07da/6d1de9c2944f2ccddca5f5e010ea5ae64a39845a86311af6fdf30841b0a5a16d?response-content-disposition=attachment%3B+filename*%3DUTF-8%27%27detection_Resnet50_Final.pth%3B+filename%3D%22detection_Resnet50_Final.pth%22%3B&Expires=1705247130&Policy=eyJTdGF0ZW1lbnQiOlt7IkNvbmRpdGlvbiI6eyJEYXRlTGVzc1RoYW4iOnsiQVdTOkVwb2NoVGltZSI6MTcwNTI0NzEzMH19LCJSZXNvdXJjZSI6Imh0dHBzOi8vY2RuLWxmcy11cy0xLmh1Z2dpbmdmYWNlLmNvL3JlcG9zLzc1L2Y0Lzc1ZjQ4YWU1NmE0MWY0MjhmZGRmZTY1NDg3Yjk3ZGJlMWFkODQzNmM4YzQxMzJjZTRiNTU0ODc1MWYyYTA3ZGEvNmQxZGU5YzI5NDRmMmNjZGRjYTVmNWUwMTBlYTVhZTY0YTM5ODQ1YTg2MzExYWY2ZmRmMzA4NDFiMGE1YTE2ZD9yZXNwb25zZS1jb250ZW50LWRpc3Bvc2l0aW9uPSoifV19&Signature=di3nrb1e4cako4AVetLWmNn8wWyPR%7EKanlXlX%7EmcS9DEnjBpW%7Es0n6ByiW3vpt5DAqNhKQFhV6ziwt80s%7EcMF302XjVCuxEx6SrYAoR4PKA%7EZ59d9FrcHodq7%7EpZ3Qf9TUb0Kt11lNNDXkjPw2TPngzrQbnaTH3qnYwt0HzREjB6f0MO7O-Nk51HkBTR7BDQ-q3hC7SrpTwOLDLPwEpdkgYTVZqCN0MwLxeIA4GIFQiLV61W-zahYwpfoC3Ty36t5Z%7EexnKlcFKKySjKIhNnUyVfcdJ7ZOGoVg7xAZopZGvuytK1sNWwU-yJgtNiXjM4CgrL5q9ww-clMXHlkGwTfg__&Key-Pair-Id=KCD77M1F0VK2B\n",
      "Resolving cdn-lfs-us-1.huggingface.co (cdn-lfs-us-1.huggingface.co)... 18.238.49.76, 18.238.49.97, 18.238.49.21, ...\n",
      "Connecting to cdn-lfs-us-1.huggingface.co (cdn-lfs-us-1.huggingface.co)|18.238.49.76|:443... connected.\n",
      "HTTP request sent, awaiting response... 200 OK\n",
      "Length: 109497761 (104M) [binary/octet-stream]\n",
      "--2024-01-11 15:45:30--  https://cdn-lfs-us-1.huggingface.co/repos/75/f4/75f48ae56a41f428fddfe65487b97dbe1ad8436c8c4132ce4b5548751f2a07da/6d1de9c2944f2ccddca5f5e010ea5ae64a39845a86311af6fdf30841b0a5a16d?response-content-disposition=attachment%3B+filename*%3DUTF-8%27%27detection_Resnet50_Final.pth%3B+filename%3D%22detection_Resnet50_Final.pth%22%3B&Expires=1705247130&Policy=eyJTdGF0ZW1lbnQiOlt7IkNvbmRpdGlvbiI6eyJEYXRlTGVzc1RoYW4iOnsiQVdTOkVwb2NoVGltZSI6MTcwNTI0NzEzMH19LCJSZXNvdXJjZSI6Imh0dHBzOi8vY2RuLWxmcy11cy0xLmh1Z2dpbmdmYWNlLmNvL3JlcG9zLzc1L2Y0Lzc1ZjQ4YWU1NmE0MWY0MjhmZGRmZTY1NDg3Yjk3ZGJlMWFkODQzNmM4YzQxMzJjZTRiNTU0ODc1MWYyYTA3ZGEvNmQxZGU5YzI5NDRmMmNjZGRjYTVmNWUwMTBlYTVhZTY0YTM5ODQ1YTg2MzExYWY2ZmRmMzA4NDFiMGE1YTE2ZD9yZXNwb25zZS1jb250ZW50LWRpc3Bvc2l0aW9uPSoifV19&Signature=di3nrb1e4cako4AVetLWmNn8wWyPR%7EKanlXlX%7EmcS9DEnjBpW%7Es0n6ByiW3vpt5DAqNhKQFhV6ziwt80s%7EcMF302XjVCuxEx6SrYAoR4PKA%7EZ59d9FrcHodq7%7EpZ3Qf9TUb0Kt11lNNDXkjPw2TPngzrQbnaTH3qnYwt0HzREjB6f0MO7O-Nk51HkBTR7BDQ-q3hC7SrpTwOLDLPwEpdkgYTVZqCN0MwLxeIA4GIFQiLV61W-zahYwpfoC3Ty36t5Z%7EexnKlcFKKySjKIhNnUyVfcdJ7ZOGoVg7xAZopZGvuytK1sNWwU-yJgtNiXjM4CgrL5q9ww-clMXHlkGwTfg__&Key-Pair-Id=KCD77M1F0VK2B\n",
      "Reusing existing connection to cdn-lfs-us-1.huggingface.co:443.\n",
      "HTTP request sent, awaiting response... 200 OK\n",
      "Length: 109497761 (104M) [binary/octet-stream]\n",
      "Saving to: ‘gfpgan/weights/detection_Resnet50_Final.pth’\n",
      "\n",
      "detection_Resnet50_ 100%[===================>] 104.42M   240MB/s    in 0.4s    \n",
      "\n",
      "2024-01-11 15:45:31 (240 MB/s) - ‘gfpgan/weights/detection_Resnet50_Final.pth’ saved [109497761/109497761]\n",
      "\n",
      "--2024-01-11 15:45:31--  https://huggingface.co/yutaakiyama/inswapper_128.onnx/resolve/main/parsing_parsenet.pth\n",
      "Resolving huggingface.co (huggingface.co)... 18.238.49.117, 18.238.49.112, 18.238.49.70, ...\n",
      "Connecting to huggingface.co (huggingface.co)|18.238.49.117|:443... connected.\n",
      "HTTP request sent, awaiting response... 302 Found\n",
      "Location: https://cdn-lfs-us-1.huggingface.co/repos/75/f4/75f48ae56a41f428fddfe65487b97dbe1ad8436c8c4132ce4b5548751f2a07da/3d558d8d0e42c20224f13cf5a29c79eba2d59913419f945545d8cf7b72920de2?response-content-disposition=attachment%3B+filename*%3DUTF-8%27%27parsing_parsenet.pth%3B+filename%3D%22parsing_parsenet.pth%22%3B&Expires=1705247131&Policy=eyJTdGF0ZW1lbnQiOlt7IkNvbmRpdGlvbiI6eyJEYXRlTGVzc1RoYW4iOnsiQVdTOkVwb2NoVGltZSI6MTcwNTI0NzEzMX19LCJSZXNvdXJjZSI6Imh0dHBzOi8vY2RuLWxmcy11cy0xLmh1Z2dpbmdmYWNlLmNvL3JlcG9zLzc1L2Y0Lzc1ZjQ4YWU1NmE0MWY0MjhmZGRmZTY1NDg3Yjk3ZGJlMWFkODQzNmM4YzQxMzJjZTRiNTU0ODc1MWYyYTA3ZGEvM2Q1NThkOGQwZTQyYzIwMjI0ZjEzY2Y1YTI5Yzc5ZWJhMmQ1OTkxMzQxOWY5NDU1NDVkOGNmN2I3MjkyMGRlMj9yZXNwb25zZS1jb250ZW50LWRpc3Bvc2l0aW9uPSoifV19&Signature=FL4VpBNCIoOGPDFCdeXKqO6HuuXpGTJ8%7E-GO7Ji-kxmYdEf-iS0r%7E7c6%7EopgWPaoShDX9l-Yrx3FUE2s260w7C0N5G7%7EyXSrsFH0CJp4YgBc-AvLByMBpjl-TK5f8VUnSOSYn1rgR9IqLqnwmUE6QAy7sQCZ9kvg-yhMzUDoqerMtpbR3APNj1pOWKqxCUeHoh281J5ONHgK-zyoFiUs-BfJR0qmif5GtvXXw3iWBl98RF0npiCdN94LSqFiCInnjirwp5PCAsNWJoO%7E2oax9hNAiKZlu89YBUsg5FgFEQ8uYtSPi8yXnABSByxkTzlIka41ZOfW7um5vPnFNOBcvA__&Key-Pair-Id=KCD77M1F0VK2B [following]\n",
      "--2024-01-11 15:45:31--  https://cdn-lfs-us-1.huggingface.co/repos/75/f4/75f48ae56a41f428fddfe65487b97dbe1ad8436c8c4132ce4b5548751f2a07da/3d558d8d0e42c20224f13cf5a29c79eba2d59913419f945545d8cf7b72920de2?response-content-disposition=attachment%3B+filename*%3DUTF-8%27%27parsing_parsenet.pth%3B+filename%3D%22parsing_parsenet.pth%22%3B&Expires=1705247131&Policy=eyJTdGF0ZW1lbnQiOlt7IkNvbmRpdGlvbiI6eyJEYXRlTGVzc1RoYW4iOnsiQVdTOkVwb2NoVGltZSI6MTcwNTI0NzEzMX19LCJSZXNvdXJjZSI6Imh0dHBzOi8vY2RuLWxmcy11cy0xLmh1Z2dpbmdmYWNlLmNvL3JlcG9zLzc1L2Y0Lzc1ZjQ4YWU1NmE0MWY0MjhmZGRmZTY1NDg3Yjk3ZGJlMWFkODQzNmM4YzQxMzJjZTRiNTU0ODc1MWYyYTA3ZGEvM2Q1NThkOGQwZTQyYzIwMjI0ZjEzY2Y1YTI5Yzc5ZWJhMmQ1OTkxMzQxOWY5NDU1NDVkOGNmN2I3MjkyMGRlMj9yZXNwb25zZS1jb250ZW50LWRpc3Bvc2l0aW9uPSoifV19&Signature=FL4VpBNCIoOGPDFCdeXKqO6HuuXpGTJ8%7E-GO7Ji-kxmYdEf-iS0r%7E7c6%7EopgWPaoShDX9l-Yrx3FUE2s260w7C0N5G7%7EyXSrsFH0CJp4YgBc-AvLByMBpjl-TK5f8VUnSOSYn1rgR9IqLqnwmUE6QAy7sQCZ9kvg-yhMzUDoqerMtpbR3APNj1pOWKqxCUeHoh281J5ONHgK-zyoFiUs-BfJR0qmif5GtvXXw3iWBl98RF0npiCdN94LSqFiCInnjirwp5PCAsNWJoO%7E2oax9hNAiKZlu89YBUsg5FgFEQ8uYtSPi8yXnABSByxkTzlIka41ZOfW7um5vPnFNOBcvA__&Key-Pair-Id=KCD77M1F0VK2B\n",
      "Resolving cdn-lfs-us-1.huggingface.co (cdn-lfs-us-1.huggingface.co)... 18.238.49.76, 18.238.49.21, 18.238.49.97, ...\n",
      "Connecting to cdn-lfs-us-1.huggingface.co (cdn-lfs-us-1.huggingface.co)|18.238.49.76|:443... connected.\n",
      "HTTP request sent, awaiting response... 200 OK\n",
      "Length: 85331193 (81M) [binary/octet-stream]\n",
      "--2024-01-11 15:45:32--  https://cdn-lfs-us-1.huggingface.co/repos/75/f4/75f48ae56a41f428fddfe65487b97dbe1ad8436c8c4132ce4b5548751f2a07da/3d558d8d0e42c20224f13cf5a29c79eba2d59913419f945545d8cf7b72920de2?response-content-disposition=attachment%3B+filename*%3DUTF-8%27%27parsing_parsenet.pth%3B+filename%3D%22parsing_parsenet.pth%22%3B&Expires=1705247131&Policy=eyJTdGF0ZW1lbnQiOlt7IkNvbmRpdGlvbiI6eyJEYXRlTGVzc1RoYW4iOnsiQVdTOkVwb2NoVGltZSI6MTcwNTI0NzEzMX19LCJSZXNvdXJjZSI6Imh0dHBzOi8vY2RuLWxmcy11cy0xLmh1Z2dpbmdmYWNlLmNvL3JlcG9zLzc1L2Y0Lzc1ZjQ4YWU1NmE0MWY0MjhmZGRmZTY1NDg3Yjk3ZGJlMWFkODQzNmM4YzQxMzJjZTRiNTU0ODc1MWYyYTA3ZGEvM2Q1NThkOGQwZTQyYzIwMjI0ZjEzY2Y1YTI5Yzc5ZWJhMmQ1OTkxMzQxOWY5NDU1NDVkOGNmN2I3MjkyMGRlMj9yZXNwb25zZS1jb250ZW50LWRpc3Bvc2l0aW9uPSoifV19&Signature=FL4VpBNCIoOGPDFCdeXKqO6HuuXpGTJ8%7E-GO7Ji-kxmYdEf-iS0r%7E7c6%7EopgWPaoShDX9l-Yrx3FUE2s260w7C0N5G7%7EyXSrsFH0CJp4YgBc-AvLByMBpjl-TK5f8VUnSOSYn1rgR9IqLqnwmUE6QAy7sQCZ9kvg-yhMzUDoqerMtpbR3APNj1pOWKqxCUeHoh281J5ONHgK-zyoFiUs-BfJR0qmif5GtvXXw3iWBl98RF0npiCdN94LSqFiCInnjirwp5PCAsNWJoO%7E2oax9hNAiKZlu89YBUsg5FgFEQ8uYtSPi8yXnABSByxkTzlIka41ZOfW7um5vPnFNOBcvA__&Key-Pair-Id=KCD77M1F0VK2B\n",
      "Reusing existing connection to cdn-lfs-us-1.huggingface.co:443.\n",
      "HTTP request sent, awaiting response... 200 OK\n",
      "Length: 85331193 (81M) [binary/octet-stream]\n",
      "Saving to: ‘gfpgan/weights/parsing_parsenet.pth’\n",
      "\n",
      "parsing_parsenet.pt 100%[===================>]  81.38M   280MB/s    in 0.3s    \n",
      "\n",
      "2024-01-11 15:45:32 (280 MB/s) - ‘gfpgan/weights/parsing_parsenet.pth’ saved [85331193/85331193]\n",
      "\n",
      "--2024-01-11 15:45:32--  https://huggingface.co/yutaakiyama/inswapper_128.onnx/resolve/main/inswapper_128.onnx\n",
      "Resolving huggingface.co (huggingface.co)... 18.238.49.117, 18.238.49.10, 18.238.49.112, ...\n",
      "Connecting to huggingface.co (huggingface.co)|18.238.49.117|:443... connected.\n",
      "HTTP request sent, awaiting response... 302 Found\n",
      "Location: https://cdn-lfs-us-1.huggingface.co/repos/75/f4/75f48ae56a41f428fddfe65487b97dbe1ad8436c8c4132ce4b5548751f2a07da/e4a3f08c753cb72d04e10aa0f7dbe3deebbf39567d4ead6dce08e98aa49e16af?response-content-disposition=attachment%3B+filename*%3DUTF-8%27%27inswapper_128.onnx%3B+filename%3D%22inswapper_128.onnx%22%3B&Expires=1705247132&Policy=eyJTdGF0ZW1lbnQiOlt7IkNvbmRpdGlvbiI6eyJEYXRlTGVzc1RoYW4iOnsiQVdTOkVwb2NoVGltZSI6MTcwNTI0NzEzMn19LCJSZXNvdXJjZSI6Imh0dHBzOi8vY2RuLWxmcy11cy0xLmh1Z2dpbmdmYWNlLmNvL3JlcG9zLzc1L2Y0Lzc1ZjQ4YWU1NmE0MWY0MjhmZGRmZTY1NDg3Yjk3ZGJlMWFkODQzNmM4YzQxMzJjZTRiNTU0ODc1MWYyYTA3ZGEvZTRhM2YwOGM3NTNjYjcyZDA0ZTEwYWEwZjdkYmUzZGVlYmJmMzk1NjdkNGVhZDZkY2UwOGU5OGFhNDllMTZhZj9yZXNwb25zZS1jb250ZW50LWRpc3Bvc2l0aW9uPSoifV19&Signature=BATegjfBTN-sL5kjjkifwhcyMxAvlP0PCD1f2ZRUxAXCMFRl5K%7ElCQSULDQaV69gvmhvzRLoK-XVO-hYnZwZWA28enGrqJMUazks7fVI%7EK2hA-PKkhxSuILIWKmlFp8a1t%7E7RJtYiFNAL9QWFnUlf3HhJ8lOGJvxSnAEpMjO3-7BR7QZVFWRnlFNlUi8k7keBJrc-9bRgcUANyzz1LTd1AlSb9JP4A5AMpm%7EmCsJKhpkSu6zuqkHTvOvST15p5GDhhfEjDHj5h2CRbWidUuSccKRsRItnj06bKHU-FQEHDLY4J3zvgQ0riKcbJCAj%7ERcqdBQ-VrhrqdGOvJOsagmLg__&Key-Pair-Id=KCD77M1F0VK2B [following]\n",
      "--2024-01-11 15:45:32--  https://cdn-lfs-us-1.huggingface.co/repos/75/f4/75f48ae56a41f428fddfe65487b97dbe1ad8436c8c4132ce4b5548751f2a07da/e4a3f08c753cb72d04e10aa0f7dbe3deebbf39567d4ead6dce08e98aa49e16af?response-content-disposition=attachment%3B+filename*%3DUTF-8%27%27inswapper_128.onnx%3B+filename%3D%22inswapper_128.onnx%22%3B&Expires=1705247132&Policy=eyJTdGF0ZW1lbnQiOlt7IkNvbmRpdGlvbiI6eyJEYXRlTGVzc1RoYW4iOnsiQVdTOkVwb2NoVGltZSI6MTcwNTI0NzEzMn19LCJSZXNvdXJjZSI6Imh0dHBzOi8vY2RuLWxmcy11cy0xLmh1Z2dpbmdmYWNlLmNvL3JlcG9zLzc1L2Y0Lzc1ZjQ4YWU1NmE0MWY0MjhmZGRmZTY1NDg3Yjk3ZGJlMWFkODQzNmM4YzQxMzJjZTRiNTU0ODc1MWYyYTA3ZGEvZTRhM2YwOGM3NTNjYjcyZDA0ZTEwYWEwZjdkYmUzZGVlYmJmMzk1NjdkNGVhZDZkY2UwOGU5OGFhNDllMTZhZj9yZXNwb25zZS1jb250ZW50LWRpc3Bvc2l0aW9uPSoifV19&Signature=BATegjfBTN-sL5kjjkifwhcyMxAvlP0PCD1f2ZRUxAXCMFRl5K%7ElCQSULDQaV69gvmhvzRLoK-XVO-hYnZwZWA28enGrqJMUazks7fVI%7EK2hA-PKkhxSuILIWKmlFp8a1t%7E7RJtYiFNAL9QWFnUlf3HhJ8lOGJvxSnAEpMjO3-7BR7QZVFWRnlFNlUi8k7keBJrc-9bRgcUANyzz1LTd1AlSb9JP4A5AMpm%7EmCsJKhpkSu6zuqkHTvOvST15p5GDhhfEjDHj5h2CRbWidUuSccKRsRItnj06bKHU-FQEHDLY4J3zvgQ0riKcbJCAj%7ERcqdBQ-VrhrqdGOvJOsagmLg__&Key-Pair-Id=KCD77M1F0VK2B\n",
      "Resolving cdn-lfs-us-1.huggingface.co (cdn-lfs-us-1.huggingface.co)... 18.238.49.97, 18.238.49.76, 18.238.49.57, ...\n",
      "Connecting to cdn-lfs-us-1.huggingface.co (cdn-lfs-us-1.huggingface.co)|18.238.49.97|:443... connected.\n",
      "HTTP request sent, awaiting response... 200 OK\n",
      "Length: 554253681 (529M) [binary/octet-stream]\n",
      "--2024-01-11 15:45:32--  https://cdn-lfs-us-1.huggingface.co/repos/75/f4/75f48ae56a41f428fddfe65487b97dbe1ad8436c8c4132ce4b5548751f2a07da/e4a3f08c753cb72d04e10aa0f7dbe3deebbf39567d4ead6dce08e98aa49e16af?response-content-disposition=attachment%3B+filename*%3DUTF-8%27%27inswapper_128.onnx%3B+filename%3D%22inswapper_128.onnx%22%3B&Expires=1705247132&Policy=eyJTdGF0ZW1lbnQiOlt7IkNvbmRpdGlvbiI6eyJEYXRlTGVzc1RoYW4iOnsiQVdTOkVwb2NoVGltZSI6MTcwNTI0NzEzMn19LCJSZXNvdXJjZSI6Imh0dHBzOi8vY2RuLWxmcy11cy0xLmh1Z2dpbmdmYWNlLmNvL3JlcG9zLzc1L2Y0Lzc1ZjQ4YWU1NmE0MWY0MjhmZGRmZTY1NDg3Yjk3ZGJlMWFkODQzNmM4YzQxMzJjZTRiNTU0ODc1MWYyYTA3ZGEvZTRhM2YwOGM3NTNjYjcyZDA0ZTEwYWEwZjdkYmUzZGVlYmJmMzk1NjdkNGVhZDZkY2UwOGU5OGFhNDllMTZhZj9yZXNwb25zZS1jb250ZW50LWRpc3Bvc2l0aW9uPSoifV19&Signature=BATegjfBTN-sL5kjjkifwhcyMxAvlP0PCD1f2ZRUxAXCMFRl5K%7ElCQSULDQaV69gvmhvzRLoK-XVO-hYnZwZWA28enGrqJMUazks7fVI%7EK2hA-PKkhxSuILIWKmlFp8a1t%7E7RJtYiFNAL9QWFnUlf3HhJ8lOGJvxSnAEpMjO3-7BR7QZVFWRnlFNlUi8k7keBJrc-9bRgcUANyzz1LTd1AlSb9JP4A5AMpm%7EmCsJKhpkSu6zuqkHTvOvST15p5GDhhfEjDHj5h2CRbWidUuSccKRsRItnj06bKHU-FQEHDLY4J3zvgQ0riKcbJCAj%7ERcqdBQ-VrhrqdGOvJOsagmLg__&Key-Pair-Id=KCD77M1F0VK2B\n",
      "Reusing existing connection to cdn-lfs-us-1.huggingface.co:443.\n",
      "HTTP request sent, awaiting response... 200 OK\n",
      "Length: 554253681 (529M) [binary/octet-stream]\n",
      "Saving to: ‘models/inswapper_128.onnx’\n",
      "\n",
      "inswapper_128.onnx  100%[===================>] 528.58M  49.3MB/s    in 11s     \n",
      "\n",
      "2024-01-11 15:45:44 (46.2 MB/s) - ‘models/inswapper_128.onnx’ saved [554253681/554253681]\n",
      "\n",
      "--2024-01-11 15:45:44--  https://huggingface.co/yutaakiyama/inswapper_128.onnx/resolve/main/GFPGANv1.4.pth\n",
      "Resolving huggingface.co (huggingface.co)... 18.238.49.117, 18.238.49.70, 18.238.49.10, ...\n",
      "Connecting to huggingface.co (huggingface.co)|18.238.49.117|:443... connected.\n",
      "HTTP request sent, awaiting response... 302 Found\n",
      "Location: https://cdn-lfs-us-1.huggingface.co/repos/75/f4/75f48ae56a41f428fddfe65487b97dbe1ad8436c8c4132ce4b5548751f2a07da/e2cd4703ab14f4d01fd1383a8a8b266f9a5833dacee8e6a79d3bf21a1b6be5ad?response-content-disposition=attachment%3B+filename*%3DUTF-8%27%27GFPGANv1.4.pth%3B+filename%3D%22GFPGANv1.4.pth%22%3B&Expires=1705247145&Policy=eyJTdGF0ZW1lbnQiOlt7IkNvbmRpdGlvbiI6eyJEYXRlTGVzc1RoYW4iOnsiQVdTOkVwb2NoVGltZSI6MTcwNTI0NzE0NX19LCJSZXNvdXJjZSI6Imh0dHBzOi8vY2RuLWxmcy11cy0xLmh1Z2dpbmdmYWNlLmNvL3JlcG9zLzc1L2Y0Lzc1ZjQ4YWU1NmE0MWY0MjhmZGRmZTY1NDg3Yjk3ZGJlMWFkODQzNmM4YzQxMzJjZTRiNTU0ODc1MWYyYTA3ZGEvZTJjZDQ3MDNhYjE0ZjRkMDFmZDEzODNhOGE4YjI2NmY5YTU4MzNkYWNlZThlNmE3OWQzYmYyMWExYjZiZTVhZD9yZXNwb25zZS1jb250ZW50LWRpc3Bvc2l0aW9uPSoifV19&Signature=nHOaZLu4Tm4wFbznJjFRHJV13qxTqavAhnHrzHMF6D%7Ejo6M5KVZW2ZXYiP5XgXc0reKNP8x0MBHpfhEEKnvhYFkC31AlW4ca%7EM4TCLFxRAQvsrHH-pmuxckbWaYS6TWMYJ84jWUtIZJ8PLU4ppMZd4fZU%7EkfU7QdgIX7sj2HfRd0e8IVO7qFjQH%7E8kHQwMMwXm4y-8XEddmM5hDZdTkGcntFyKaN%7Ej2aIkBkfBD6f%7EPc6NA8aVMakXNUbnKbxwv75eSa%7Egh-QYUsaR-xaNH49noswtvYh7KTuHjyGyJKJa2iUL0DUmzttMJu0tKOQsROVZGpRT8LhXo6XfDpjuRc8g__&Key-Pair-Id=KCD77M1F0VK2B [following]\n",
      "--2024-01-11 15:45:45--  https://cdn-lfs-us-1.huggingface.co/repos/75/f4/75f48ae56a41f428fddfe65487b97dbe1ad8436c8c4132ce4b5548751f2a07da/e2cd4703ab14f4d01fd1383a8a8b266f9a5833dacee8e6a79d3bf21a1b6be5ad?response-content-disposition=attachment%3B+filename*%3DUTF-8%27%27GFPGANv1.4.pth%3B+filename%3D%22GFPGANv1.4.pth%22%3B&Expires=1705247145&Policy=eyJTdGF0ZW1lbnQiOlt7IkNvbmRpdGlvbiI6eyJEYXRlTGVzc1RoYW4iOnsiQVdTOkVwb2NoVGltZSI6MTcwNTI0NzE0NX19LCJSZXNvdXJjZSI6Imh0dHBzOi8vY2RuLWxmcy11cy0xLmh1Z2dpbmdmYWNlLmNvL3JlcG9zLzc1L2Y0Lzc1ZjQ4YWU1NmE0MWY0MjhmZGRmZTY1NDg3Yjk3ZGJlMWFkODQzNmM4YzQxMzJjZTRiNTU0ODc1MWYyYTA3ZGEvZTJjZDQ3MDNhYjE0ZjRkMDFmZDEzODNhOGE4YjI2NmY5YTU4MzNkYWNlZThlNmE3OWQzYmYyMWExYjZiZTVhZD9yZXNwb25zZS1jb250ZW50LWRpc3Bvc2l0aW9uPSoifV19&Signature=nHOaZLu4Tm4wFbznJjFRHJV13qxTqavAhnHrzHMF6D%7Ejo6M5KVZW2ZXYiP5XgXc0reKNP8x0MBHpfhEEKnvhYFkC31AlW4ca%7EM4TCLFxRAQvsrHH-pmuxckbWaYS6TWMYJ84jWUtIZJ8PLU4ppMZd4fZU%7EkfU7QdgIX7sj2HfRd0e8IVO7qFjQH%7E8kHQwMMwXm4y-8XEddmM5hDZdTkGcntFyKaN%7Ej2aIkBkfBD6f%7EPc6NA8aVMakXNUbnKbxwv75eSa%7Egh-QYUsaR-xaNH49noswtvYh7KTuHjyGyJKJa2iUL0DUmzttMJu0tKOQsROVZGpRT8LhXo6XfDpjuRc8g__&Key-Pair-Id=KCD77M1F0VK2B\n",
      "Resolving cdn-lfs-us-1.huggingface.co (cdn-lfs-us-1.huggingface.co)... 18.238.49.57, 18.238.49.21, 18.238.49.97, ...\n",
      "Connecting to cdn-lfs-us-1.huggingface.co (cdn-lfs-us-1.huggingface.co)|18.238.49.57|:443... connected.\n",
      "HTTP request sent, awaiting response... 200 OK\n",
      "Length: 348632874 (332M) [binary/octet-stream]\n",
      "--2024-01-11 15:45:45--  https://cdn-lfs-us-1.huggingface.co/repos/75/f4/75f48ae56a41f428fddfe65487b97dbe1ad8436c8c4132ce4b5548751f2a07da/e2cd4703ab14f4d01fd1383a8a8b266f9a5833dacee8e6a79d3bf21a1b6be5ad?response-content-disposition=attachment%3B+filename*%3DUTF-8%27%27GFPGANv1.4.pth%3B+filename%3D%22GFPGANv1.4.pth%22%3B&Expires=1705247145&Policy=eyJTdGF0ZW1lbnQiOlt7IkNvbmRpdGlvbiI6eyJEYXRlTGVzc1RoYW4iOnsiQVdTOkVwb2NoVGltZSI6MTcwNTI0NzE0NX19LCJSZXNvdXJjZSI6Imh0dHBzOi8vY2RuLWxmcy11cy0xLmh1Z2dpbmdmYWNlLmNvL3JlcG9zLzc1L2Y0Lzc1ZjQ4YWU1NmE0MWY0MjhmZGRmZTY1NDg3Yjk3ZGJlMWFkODQzNmM4YzQxMzJjZTRiNTU0ODc1MWYyYTA3ZGEvZTJjZDQ3MDNhYjE0ZjRkMDFmZDEzODNhOGE4YjI2NmY5YTU4MzNkYWNlZThlNmE3OWQzYmYyMWExYjZiZTVhZD9yZXNwb25zZS1jb250ZW50LWRpc3Bvc2l0aW9uPSoifV19&Signature=nHOaZLu4Tm4wFbznJjFRHJV13qxTqavAhnHrzHMF6D%7Ejo6M5KVZW2ZXYiP5XgXc0reKNP8x0MBHpfhEEKnvhYFkC31AlW4ca%7EM4TCLFxRAQvsrHH-pmuxckbWaYS6TWMYJ84jWUtIZJ8PLU4ppMZd4fZU%7EkfU7QdgIX7sj2HfRd0e8IVO7qFjQH%7E8kHQwMMwXm4y-8XEddmM5hDZdTkGcntFyKaN%7Ej2aIkBkfBD6f%7EPc6NA8aVMakXNUbnKbxwv75eSa%7Egh-QYUsaR-xaNH49noswtvYh7KTuHjyGyJKJa2iUL0DUmzttMJu0tKOQsROVZGpRT8LhXo6XfDpjuRc8g__&Key-Pair-Id=KCD77M1F0VK2B\n",
      "Reusing existing connection to cdn-lfs-us-1.huggingface.co:443.\n",
      "HTTP request sent, awaiting response... 200 OK\n",
      "Length: 348632874 (332M) [binary/octet-stream]\n",
      "Saving to: ‘models/GFPGANv1.4.pth’\n",
      "\n",
      "GFPGANv1.4.pth      100%[===================>] 332.48M   303MB/s    in 1.1s    \n",
      "\n",
      "2024-01-11 15:45:46 (303 MB/s) - ‘models/GFPGANv1.4.pth’ saved [348632874/348632874]\n",
      "\n"
     ]
    }
   ],
   "source": [
    "!wget -P gfpgan/weights https://huggingface.co/yutaakiyama/inswapper_128.onnx/resolve/main/detection_Resnet50_Final.pth --content-disposition --continue\n",
    "!wget -P gfpgan/weights https://huggingface.co/yutaakiyama/inswapper_128.onnx/resolve/main/parsing_parsenet.pth --content-disposition --continue\n",
    "!wget -P models https://huggingface.co/yutaakiyama/inswapper_128.onnx/resolve/main/inswapper_128.onnx --content-disposition --continue\n",
    "!wget -P models https://huggingface.co/yutaakiyama/inswapper_128.onnx/resolve/main/GFPGANv1.4.pth --content-disposition --continue"
   ]
  },
  {
   "cell_type": "markdown",
   "metadata": {
    "id": "nCKli1C-_EaO"
   },
   "source": [
    "#顔交換処理"
   ]
  },
  {
   "cell_type": "code",
   "execution_count": 1,
   "metadata": {
    "colab": {
     "base_uri": "https://localhost:8080/"
    },
    "execution": {
     "iopub.execute_input": "2024-01-11T15:57:20.229951Z",
     "iopub.status.busy": "2024-01-11T15:57:20.229392Z",
     "iopub.status.idle": "2024-01-11T15:57:20.370238Z",
     "shell.execute_reply": "2024-01-11T15:57:20.368857Z",
     "shell.execute_reply.started": "2024-01-11T15:57:20.229907Z"
    },
    "id": "lDYdfL3L71i1",
    "outputId": "96211d0b-4ec0-4469-dadd-be8c49a18acc",
    "tags": []
   },
   "outputs": [
    {
     "data": {
      "application/vnd.jupyter.widget-view+json": {
       "model_id": "6a854843c2604783b2bdd77c83341211",
       "version_major": 2,
       "version_minor": 0
      },
      "text/plain": [
       "VBox(children=(Label(value='交換対象の素材 ※Targetフォルダ:'), Dropdown(options=('.gitkeep', 'これ.jpeg'), value='.gitkeep'…"
      ]
     },
     "metadata": {},
     "output_type": "display_data"
    },
    {
     "data": {
      "application/vnd.jupyter.widget-view+json": {
       "model_id": "4899fee7fc064d059033e9cbfc2b9d7c",
       "version_major": 2,
       "version_minor": 0
      },
      "text/plain": [
       "Button(description='処理開始', style=ButtonStyle())"
      ]
     },
     "metadata": {},
     "output_type": "display_data"
    },
    {
     "data": {
      "application/vnd.jupyter.widget-view+json": {
       "model_id": "04ffda1f4f3542f09a3f1df0d35e8869",
       "version_major": 2,
       "version_minor": 0
      },
      "text/plain": [
       "Output()"
      ]
     },
     "metadata": {},
     "output_type": "display_data"
    }
   ],
   "source": [
    "import datetime\n",
    "import os\n",
    "import ipywidgets as widgets\n",
    "from IPython.display import display\n",
    "\n",
    "# 特定のフォルダからファイルリストを取得する関数\n",
    "def get_file_list(directory):\n",
    "    return [f for f in os.listdir(directory) if os.path.isfile(os.path.join(directory, f))]\n",
    "\n",
    "# ドロップダウンリストを作成する関数\n",
    "def create_dropdown(directory, description):\n",
    "    file_list = get_file_list(directory)\n",
    "    dropdown = widgets.Dropdown(options=file_list, description=description)\n",
    "    return dropdown\n",
    "\n",
    "# ファイル選択のためのドロップダウンリストを表示\n",
    "# ラベルとドロップダウンリストを別々の行に配置するためのコンテナ\n",
    "target_label = widgets.Label(\"交換対象の素材 ※Targetフォルダ:\")\n",
    "source_label = widgets.Label(\"交換したい顔 ※Sourceフォルダ:\")\n",
    "target_dropdown = create_dropdown('/notebooks/faceswap/inputs/target/', '')\n",
    "source_dropdown = create_dropdown('/notebooks/faceswap/inputs/source/', '')\n",
    "\n",
    "# 縦に配置するためにVBoxコンテナを使用\n",
    "dropdown_container = widgets.VBox([target_label, target_dropdown, source_label, source_dropdown])\n",
    "display(dropdown_container)\n",
    "\n",
    "# 処理を開始するためのボタンを作成\n",
    "execute_button = widgets.Button(description='処理開始')\n",
    "output = widgets.Output()\n",
    "display(execute_button, output)\n",
    "\n",
    "def on_execute_clicked(b):\n",
    "    with output:\n",
    "        # 選択されたファイル名を取得\n",
    "        target = target_dropdown.value\n",
    "        source = source_dropdown.value\n",
    "\n",
    "        # ファイルパスを構築\n",
    "        current_time = datetime.datetime.now()\n",
    "        file_name = current_time.strftime(\"%Y%m%d%H%M%S\")\n",
    "        INPUT_PATH = f\"/notebooks/faceswap/inputs/target/{target}\"\n",
    "        SOURCE_PATH = f\"/notebooks/faceswap/inputs/source/{source}\"\n",
    "        extension = \".mp4\" if INPUT_PATH.lower().endswith((\".mp4\", \".mkv\")) else \".png\"\n",
    "        OUTPUT_PATH = f\"outputs/{file_name}{extension}\"\n",
    "\n",
    "        # 外部コマンドを実行\n",
    "        print(\"処理を開始します。しばらくお待ちください...\")\n",
    "        print(f\"顔交換が完了したら、{OUTPUT_PATH}に出力されます。\")\n",
    "        !python run.py --target $INPUT_PATH --source $SOURCE_PATH -o $OUTPUT_PATH --execution-provider cuda --frame-processor face_swapper face_enhancer\n",
    "\n",
    "# ボタンのクリックイベントに関数をバインド\n",
    "execute_button.on_click(on_execute_clicked)\n"
   ]
  }
 ],
 "metadata": {
  "accelerator": "GPU",
  "colab": {
   "include_colab_link": true,
   "provenance": []
  },
  "kernelspec": {
   "display_name": "Python 3 (ipykernel)",
   "language": "python",
   "name": "python3"
  },
  "language_info": {
   "codemirror_mode": {
    "name": "ipython",
    "version": 3
   },
   "file_extension": ".py",
   "mimetype": "text/x-python",
   "name": "python",
   "nbconvert_exporter": "python",
   "pygments_lexer": "ipython3",
   "version": "3.9.16"
  },
  "toc-autonumbering": true,
  "toc-showtags": true
 },
 "nbformat": 4,
 "nbformat_minor": 4
}
